{
 "cells": [
  {
   "cell_type": "code",
   "execution_count": 1,
   "metadata": {},
   "outputs": [
    {
     "ename": "",
     "evalue": "",
     "output_type": "error",
     "traceback": [
      "\u001b[1;31mThe Kernel crashed while executing code in the current cell or a previous cell. \n",
      "\u001b[1;31mPlease review the code in the cell(s) to identify a possible cause of the failure. \n",
      "\u001b[1;31mClick <a href='https://aka.ms/vscodeJupyterKernelCrash'>here</a> for more info. \n",
      "\u001b[1;31mView Jupyter <a href='command:jupyter.viewOutput'>log</a> for further details."
     ]
    }
   ],
   "source": [
    "import subprocess\n",
    "from memory_profiler import memory_usage\n",
    "from torch.profiler import profile, ProfilerActivity\n",
    "\n",
    "from cubes import get_cube"
   ]
  },
  {
   "cell_type": "code",
   "execution_count": null,
   "metadata": {},
   "outputs": [],
   "source": [
    "with profile(\n",
    "    activities=[ProfilerActivity.CPU],\n",
    "    profile_memory=True,\n",
    "    record_shapes=True,\n",
    "    # with_stack=True,\n",
    ") as prof:\n",
    "    cube = get_cube(20)\n",
    "    solution = cube.solve(rtol=1e-5)\n",
    "\n",
    "# Show memory allocation over time\n",
    "# prof.export_memory_timeline(\"memory.html\")\n",
    "\n",
    "# Export trace to Chrome Trace format (this can be opened in chrome://tracing or https://ui.perfetto.dev/)\n",
    "prof.export_chrome_trace(\"trace.json\")"
   ]
  },
  {
   "cell_type": "code",
   "execution_count": null,
   "metadata": {},
   "outputs": [],
   "source": [
    "# add @profile decorator to function to be profiled\n",
    "cube = get_cube(20)\n",
    "solution = cube.solve(rtol=1e-5)"
   ]
  },
  {
   "cell_type": "code",
   "execution_count": null,
   "metadata": {},
   "outputs": [],
   "source": [
    "print(\"|  N  |     DOFs |  FWD Time |  BWD Time |   Peak RAM |\")\n",
    "print(\"| --- | -------- | --------- | --------- | ---------- |\")\n",
    "\n",
    "device = \"cpu\"\n",
    "order = \"1\"\n",
    "for N in [10, 20, 30, 40, 50, 60, 70, 80, 90, 100]:\n",
    "    mem_usage, result = memory_usage(\n",
    "        lambda: subprocess.run(\n",
    "            [\"python\", \"cubes.py\", \"-N\", str(N), \"-device\", device, \"-order\", order],\n",
    "            capture_output=True,\n",
    "            text=True,\n",
    "        ),\n",
    "        retval=True,\n",
    "        include_children=True,\n",
    "        max_usage=True,\n",
    "        interval=0.1,\n",
    "    )\n",
    "\n",
    "    print(result.stdout.strip() + f\" {mem_usage:8.1f}MB |\")"
   ]
  }
 ],
 "metadata": {
  "kernelspec": {
   "display_name": "env_torchfem",
   "language": "python",
   "name": "python3"
  },
  "language_info": {
   "codemirror_mode": {
    "name": "ipython",
    "version": 3
   },
   "file_extension": ".py",
   "mimetype": "text/x-python",
   "name": "python",
   "nbconvert_exporter": "python",
   "pygments_lexer": "ipython3",
   "version": "3.13.5"
  }
 },
 "nbformat": 4,
 "nbformat_minor": 2
}
